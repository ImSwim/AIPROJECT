{
  "nbformat": 4,
  "nbformat_minor": 0,
  "metadata": {
    "colab": {
      "provenance": []
    },
    "kernelspec": {
      "name": "python3",
      "display_name": "Python 3"
    },
    "language_info": {
      "name": "python"
    }
  },
  "cells": [
    {
      "cell_type": "code",
      "source": [
        "!pip install konlpy"
      ],
      "metadata": {
        "colab": {
          "base_uri": "https://localhost:8080/"
        },
        "id": "pwm1z8meyd2U",
        "outputId": "b497bab1-36f0-4b99-a6d0-b1b1d3dd3044"
      },
      "execution_count": null,
      "outputs": [
        {
          "output_type": "stream",
          "name": "stdout",
          "text": [
            "Looking in indexes: https://pypi.org/simple, https://us-python.pkg.dev/colab-wheels/public/simple/\n",
            "Collecting konlpy\n",
            "  Downloading konlpy-0.6.0-py2.py3-none-any.whl (19.4 MB)\n",
            "\u001b[K     |████████████████████████████████| 19.4 MB 1.2 MB/s \n",
            "\u001b[?25hRequirement already satisfied: lxml>=4.1.0 in /usr/local/lib/python3.8/dist-packages (from konlpy) (4.9.1)\n",
            "Requirement already satisfied: numpy>=1.6 in /usr/local/lib/python3.8/dist-packages (from konlpy) (1.21.6)\n",
            "Collecting JPype1>=0.7.0\n",
            "  Downloading JPype1-1.4.1-cp38-cp38-manylinux_2_12_x86_64.manylinux2010_x86_64.whl (465 kB)\n",
            "\u001b[K     |████████████████████████████████| 465 kB 57.9 MB/s \n",
            "\u001b[?25hRequirement already satisfied: packaging in /usr/local/lib/python3.8/dist-packages (from JPype1>=0.7.0->konlpy) (21.3)\n",
            "Requirement already satisfied: pyparsing!=3.0.5,>=2.0.2 in /usr/local/lib/python3.8/dist-packages (from packaging->JPype1>=0.7.0->konlpy) (3.0.9)\n",
            "Installing collected packages: JPype1, konlpy\n",
            "Successfully installed JPype1-1.4.1 konlpy-0.6.0\n"
          ]
        }
      ]
    },
    {
      "cell_type": "code",
      "execution_count": null,
      "metadata": {
        "id": "I72eCsht8qt-",
        "colab": {
          "base_uri": "https://localhost:8080/"
        },
        "outputId": "d6e4028e-a887-46a3-a4d5-10136c63204c"
      },
      "outputs": [
        {
          "output_type": "stream",
          "name": "stdout",
          "text": [
            "Mounted at /content/gdrive\n"
          ]
        }
      ],
      "source": [
        "from google.colab import drive\n",
        "drive.mount('/content/gdrive')"
      ]
    },
    {
      "cell_type": "code",
      "source": [
        "import pandas as pd\n",
        "\n",
        "df = pd.read_excel(\"/content/gdrive/MyDrive/Colab Notebooks/ai/식품/dataset.xlsx\")\n",
        "X= pd.DataFrame({ 'Name' : df.iloc[:,0] })\n",
        "y= pd.DataFrame({ 'S' : df.iloc[0:,2] })"
      ],
      "metadata": {
        "id": "CqV_H4mcctQX"
      },
      "execution_count": null,
      "outputs": []
    },
    {
      "cell_type": "code",
      "source": [
        "import re\n",
        "from konlpy.tag import Okt  \n",
        "okt=Okt()  \n",
        "sub_dic = [] ; dic = {} ; lst = []\n",
        "for i, item in enumerate(list(X.iloc[:,0])):\n",
        "    sub_str = re.sub('[a-zA-Z0-9]', \"\", item)\n",
        "    X.iloc[i,0] = re.sub(r\"[^\\uAC00-\\uD7A30-9a-zA-Z]\", \"\", sub_str)\n",
        "    X.iloc[i,0] = okt.normalize(X.iloc[i,0])\n",
        "    X.iloc[i,0] = okt.nouns(X.iloc[i,0])\n",
        "    Max = max(len(X.iloc[i,0]), len(X.iloc[i-1,0]))\n",
        "    sub_dic.extend(X.iloc[i,0])\n",
        "\n",
        "sub_dic = list(set(sub_dic))\n",
        "\n",
        "for i, item in enumerate(sub_dic):\n",
        "  dic[item] = i\n",
        "\n",
        "for i, item in enumerate(list(X.iloc[:,0])):\n",
        "  for j in item:\n",
        "    lst.append(dic[j])\n",
        "  X.iloc[i,0] = lst\n",
        "  lst = []\n",
        "print(X)"
      ],
      "metadata": {
        "id": "I9CS9hjj2313",
        "colab": {
          "base_uri": "https://localhost:8080/"
        },
        "outputId": "df83087b-c304-447e-a2e9-62adce83d3f5"
      },
      "execution_count": null,
      "outputs": [
        {
          "output_type": "stream",
          "name": "stdout",
          "text": [
            "                                                 Name\n",
            "0                    [75, 149, 70, 111, 112, 140, 55]\n",
            "1           [78, 108, 181, 122, 140, 55, 102, 87, 64]\n",
            "2                              [182, 162, 32, 33, 65]\n",
            "3                         [175, 42, 185, 122, 87, 16]\n",
            "4                                 [140, 87, 177, 173]\n",
            "..                                                ...\n",
            "75                            [53, 125, 149, 150, 84]\n",
            "76  [186, 9, 188, 91, 177, 125, 150, 84, 81, 125, ...\n",
            "77  [120, 125, 192, 125, 0, 113, 189, 39, 178, 7, 92]\n",
            "78              [76, 100, 48, 17, 89, 29, 48, 33, 99]\n",
            "79  [186, 9, 188, 91, 177, 125, 150, 84, 81, 125, ...\n",
            "\n",
            "[80 rows x 1 columns]\n"
          ]
        }
      ]
    },
    {
      "cell_type": "code",
      "source": [
        "import tensorflow as tf\n",
        "from tensorflow.keras import layers\n",
        "from tensorflow.keras.preprocessing import sequence\n",
        "\n",
        "label = y.iloc[:,0].unique()\n",
        "for i,item in enumerate(label):\n",
        "  y = y.replace(item,i)\n",
        "y = tf.keras.utils.to_categorical(y,2)\n",
        "\n",
        "X = sequence.pad_sequences(X.iloc[:,0], maxlen = 14)"
      ],
      "metadata": {
        "id": "sCkxK-fkxZ4N"
      },
      "execution_count": null,
      "outputs": []
    },
    {
      "cell_type": "code",
      "source": [
        "y[:5]"
      ],
      "metadata": {
        "colab": {
          "base_uri": "https://localhost:8080/"
        },
        "id": "jniDKSGJ1ESh",
        "outputId": "80da77c5-83b4-4036-c3c3-3694ccaa0635"
      },
      "execution_count": null,
      "outputs": [
        {
          "output_type": "execute_result",
          "data": {
            "text/plain": [
              "array([[1., 0.],\n",
              "       [1., 0.],\n",
              "       [1., 0.],\n",
              "       [1., 0.],\n",
              "       [1., 0.]], dtype=float32)"
            ]
          },
          "metadata": {},
          "execution_count": 7
        }
      ]
    },
    {
      "cell_type": "code",
      "source": [
        "import numpy as np\n",
        "from PIL import Image\n",
        "import matplotlib.pyplot as plt\n",
        "import os\n",
        "\n",
        "def jpg_image_to_array(image_path,size):\n",
        "  image = Image.open(image_path)\n",
        "  image = image.resize((size,size))\n",
        "  im_arr = np.fromstring(image.tobytes(), dtype=np.uint8)\n",
        "  im_arr = im_arr.reshape((image.size[1], image.size[0], 3))\n",
        "  return im_arr\n",
        "\n",
        "dir = '/content/gdrive/MyDrive/Colab Notebooks/ai/식품/사과,배'\n",
        "\n",
        "subdir_names = os.listdir(dir)\n",
        "X_img = [] ; y_img = []\n",
        "for subdir_name in subdir_names:\n",
        "  subdir = dir + \"/\" + subdir_name\n",
        "  file_names = os.listdir(subdir)\n",
        "  for file_name in file_names:\n",
        "    path = subdir + \"/\" + file_name\n",
        "    arr = jpg_image_to_array(path, 224)\n",
        "    if len(X_img)==0:\n",
        "      X_img = [arr]\n",
        "      y_img.append(subdir_name)\n",
        "\n",
        "    else:\n",
        "      X_img = np.concatenate((X_img, [arr]))\n",
        "      y_img.append(subdir_name)\n",
        "\n",
        "\n",
        "print(X_img.shape)\n",
        "print(len(y_img))\n"
      ],
      "metadata": {
        "id": "q7_yNyx4nC7w",
        "colab": {
          "base_uri": "https://localhost:8080/"
        },
        "outputId": "ffddde41-7fd9-4871-d04d-782f54ab6cf1"
      },
      "execution_count": null,
      "outputs": [
        {
          "output_type": "stream",
          "name": "stderr",
          "text": [
            "<ipython-input-8-d3b985e779b4>:9: DeprecationWarning: The binary mode of fromstring is deprecated, as it behaves surprisingly on unicode inputs. Use frombuffer instead\n",
            "  im_arr = np.fromstring(image.tobytes(), dtype=np.uint8)\n"
          ]
        },
        {
          "output_type": "stream",
          "name": "stdout",
          "text": [
            "(80, 224, 224, 3)\n",
            "80\n"
          ]
        }
      ]
    },
    {
      "cell_type": "code",
      "source": [
        "X_img = X_img/255"
      ],
      "metadata": {
        "id": "prUp1ZXdL_CZ"
      },
      "execution_count": null,
      "outputs": []
    },
    {
      "cell_type": "code",
      "source": [
        "y_img = pd.DataFrame(y_img, dtype='str')\n",
        "label = y_img.iloc[:,0].unique()\n",
        "for i,item in enumerate(label):\n",
        "  y_img = y_img.replace(item,i)\n",
        "y_img = tf.keras.utils.to_categorical(y_img,2)"
      ],
      "metadata": {
        "id": "vn3fk0xT3Wm0"
      },
      "execution_count": null,
      "outputs": []
    },
    {
      "cell_type": "code",
      "source": [
        "from sklearn.model_selection import train_test_split\n",
        "X_train, X_test, y_train, y_test = train_test_split(X, y, stratify=y, test_size=0.25, random_state=77)\n",
        "X_train_img, X_test_img, y_train_img, y_test_img = train_test_split(X_img, y_img, stratify=y, test_size=0.25, random_state=77)"
      ],
      "metadata": {
        "id": "p_eArF50EGdd"
      },
      "execution_count": null,
      "outputs": []
    },
    {
      "cell_type": "code",
      "source": [
        "for i, j in zip(y, y_img):\n",
        "  if i[0] == j[0]:\n",
        "    continue\n",
        "  else:\n",
        "    print(i, j)\n",
        "    print('타겟 데이터가 다른 record끼리 연결되었습니다.')\n",
        "    break"
      ],
      "metadata": {
        "id": "phFGHKfp3yGp"
      },
      "execution_count": null,
      "outputs": []
    },
    {
      "cell_type": "code",
      "source": [
        "model_CS = tf.keras.Sequential()\n",
        "model_CS.add(layers.Conv1D(filters=16, kernel_size=2, strides=1, padding='same', \n",
        "                        activation='relu',input_shape=(14,1)))\n",
        "model_CS.add(layers.LSTM(64))\n",
        "model_CS.add(layers.Dense(2, activation='sigmoid'))\n",
        "\n",
        "model_CS.compile(loss=tf.keras.losses.binary_crossentropy, \n",
        "              optimizer= tf.keras.optimizers.RMSprop(0.001),\n",
        "              metrics = ['accuracy'])\n",
        "\n",
        "early_stop = tf.keras.callbacks.EarlyStopping(monitor='val_loss', patience=5)\n",
        "hist_CS = model_CS.fit(X_train,y_train,\n",
        "          batch_size=3,\n",
        "          epochs=100,\n",
        "          validation_split=0.1,\n",
        "          callbacks=[early_stop],\n",
        "          shuffle=True,\n",
        "          verbose=1)"
      ],
      "metadata": {
        "colab": {
          "base_uri": "https://localhost:8080/"
        },
        "id": "2YZHgEKcLIno",
        "outputId": "01ebab91-b916-400a-9b1d-e4b7a9e99b08"
      },
      "execution_count": null,
      "outputs": [
        {
          "output_type": "stream",
          "name": "stdout",
          "text": [
            "Epoch 1/100\n",
            "18/18 [==============================] - 5s 77ms/step - loss: 0.7386 - accuracy: 0.5185 - val_loss: 0.7515 - val_accuracy: 0.3333\n",
            "Epoch 2/100\n",
            "18/18 [==============================] - 0s 10ms/step - loss: 0.6562 - accuracy: 0.5926 - val_loss: 0.8278 - val_accuracy: 0.3333\n",
            "Epoch 3/100\n",
            "18/18 [==============================] - 0s 9ms/step - loss: 0.6396 - accuracy: 0.6852 - val_loss: 0.8293 - val_accuracy: 0.5000\n",
            "Epoch 4/100\n",
            "18/18 [==============================] - 0s 10ms/step - loss: 0.6042 - accuracy: 0.7222 - val_loss: 0.8577 - val_accuracy: 0.3333\n",
            "Epoch 5/100\n",
            "18/18 [==============================] - 0s 10ms/step - loss: 0.5886 - accuracy: 0.6852 - val_loss: 0.8860 - val_accuracy: 0.3333\n",
            "Epoch 6/100\n",
            "18/18 [==============================] - 0s 9ms/step - loss: 0.5650 - accuracy: 0.6481 - val_loss: 0.9985 - val_accuracy: 0.1667\n"
          ]
        }
      ]
    },
    {
      "cell_type": "code",
      "source": [
        "import tensorflow_hub as hub\n",
        "\n",
        "url = 'https://tfhub.dev/google/tf2-preview/mobilenet_v2/classification/2'\n",
        "model_CNN= tf.keras.Sequential([\n",
        "    hub.KerasLayer(handle = url, input_shape = (224, 224, 3), trainable = False)])\n",
        "model_CNN.add(layers.Flatten())\n",
        "model_CNN.add(layers.Dense(2, activation='sigmoid'))\n",
        "\n",
        "model_CNN.compile(loss=tf.keras.losses.categorical_crossentropy, \n",
        "              optimizer= tf.keras.optimizers.RMSprop(0.001),\n",
        "              metrics = ['accuracy'])\n",
        "\n",
        "early_stop = tf.keras.callbacks.EarlyStopping(monitor='val_loss', patience=20)\n",
        "hist_CNN = model_CNN.fit(X_train_img,y_train_img,\n",
        "          batch_size=3,\n",
        "          epochs=100,\n",
        "          validation_split=0.1,\n",
        "          callbacks = early_stop,\n",
        "          shuffle=True,\n",
        "          verbose=1)"
      ],
      "metadata": {
        "colab": {
          "base_uri": "https://localhost:8080/"
        },
        "id": "b5VDAxecLjfr",
        "outputId": "97f1306a-9a05-467b-baba-065009d8b61a"
      },
      "execution_count": null,
      "outputs": [
        {
          "output_type": "stream",
          "name": "stdout",
          "text": [
            "Epoch 1/100\n",
            "18/18 [==============================] - 11s 198ms/step - loss: 0.4779 - accuracy: 0.8148 - val_loss: 0.3363 - val_accuracy: 0.6667\n",
            "Epoch 2/100\n",
            "18/18 [==============================] - 2s 128ms/step - loss: 0.0802 - accuracy: 0.9815 - val_loss: 0.1108 - val_accuracy: 1.0000\n",
            "Epoch 3/100\n",
            "18/18 [==============================] - 2s 127ms/step - loss: 0.0301 - accuracy: 1.0000 - val_loss: 0.0801 - val_accuracy: 1.0000\n",
            "Epoch 4/100\n",
            "18/18 [==============================] - 3s 193ms/step - loss: 0.0132 - accuracy: 1.0000 - val_loss: 0.1222 - val_accuracy: 1.0000\n",
            "Epoch 5/100\n",
            "18/18 [==============================] - 3s 173ms/step - loss: 0.0065 - accuracy: 1.0000 - val_loss: 0.0280 - val_accuracy: 1.0000\n",
            "Epoch 6/100\n",
            "18/18 [==============================] - 2s 121ms/step - loss: 0.0030 - accuracy: 1.0000 - val_loss: 0.0745 - val_accuracy: 1.0000\n",
            "Epoch 7/100\n",
            "18/18 [==============================] - 2s 125ms/step - loss: 0.0015 - accuracy: 1.0000 - val_loss: 0.0152 - val_accuracy: 1.0000\n",
            "Epoch 8/100\n",
            "18/18 [==============================] - 3s 150ms/step - loss: 6.7839e-04 - accuracy: 1.0000 - val_loss: 0.0156 - val_accuracy: 1.0000\n",
            "Epoch 9/100\n",
            "18/18 [==============================] - 2s 121ms/step - loss: 3.3081e-04 - accuracy: 1.0000 - val_loss: 0.0096 - val_accuracy: 1.0000\n",
            "Epoch 10/100\n",
            "18/18 [==============================] - 2s 123ms/step - loss: 1.6285e-04 - accuracy: 1.0000 - val_loss: 0.0048 - val_accuracy: 1.0000\n",
            "Epoch 11/100\n",
            "18/18 [==============================] - 2s 123ms/step - loss: 7.1299e-05 - accuracy: 1.0000 - val_loss: 0.0036 - val_accuracy: 1.0000\n",
            "Epoch 12/100\n",
            "18/18 [==============================] - 2s 122ms/step - loss: 3.5368e-05 - accuracy: 1.0000 - val_loss: 0.0019 - val_accuracy: 1.0000\n",
            "Epoch 13/100\n",
            "18/18 [==============================] - 2s 123ms/step - loss: 1.8563e-05 - accuracy: 1.0000 - val_loss: 0.0017 - val_accuracy: 1.0000\n",
            "Epoch 14/100\n",
            "18/18 [==============================] - 2s 124ms/step - loss: 7.4505e-06 - accuracy: 1.0000 - val_loss: 6.1663e-04 - val_accuracy: 1.0000\n",
            "Epoch 15/100\n",
            "18/18 [==============================] - 2s 128ms/step - loss: 4.4085e-06 - accuracy: 1.0000 - val_loss: 0.0011 - val_accuracy: 1.0000\n",
            "Epoch 16/100\n",
            "18/18 [==============================] - 2s 126ms/step - loss: 1.9714e-06 - accuracy: 1.0000 - val_loss: 4.6580e-04 - val_accuracy: 1.0000\n",
            "Epoch 17/100\n",
            "18/18 [==============================] - 2s 126ms/step - loss: 1.0530e-06 - accuracy: 1.0000 - val_loss: 4.5187e-04 - val_accuracy: 1.0000\n",
            "Epoch 18/100\n",
            "18/18 [==============================] - 2s 130ms/step - loss: 4.6138e-07 - accuracy: 1.0000 - val_loss: 1.9981e-04 - val_accuracy: 1.0000\n",
            "Epoch 19/100\n",
            "18/18 [==============================] - 2s 125ms/step - loss: 2.2959e-07 - accuracy: 1.0000 - val_loss: 2.4508e-04 - val_accuracy: 1.0000\n",
            "Epoch 20/100\n",
            "18/18 [==============================] - 2s 123ms/step - loss: 1.1700e-07 - accuracy: 1.0000 - val_loss: 1.3124e-04 - val_accuracy: 1.0000\n",
            "Epoch 21/100\n",
            "18/18 [==============================] - 2s 124ms/step - loss: 5.7397e-08 - accuracy: 1.0000 - val_loss: 1.0362e-04 - val_accuracy: 1.0000\n",
            "Epoch 22/100\n",
            "18/18 [==============================] - 2s 124ms/step - loss: 3.9736e-08 - accuracy: 1.0000 - val_loss: 7.8669e-05 - val_accuracy: 1.0000\n",
            "Epoch 23/100\n",
            "18/18 [==============================] - 2s 129ms/step - loss: 2.2076e-08 - accuracy: 1.0000 - val_loss: 7.7775e-05 - val_accuracy: 1.0000\n",
            "Epoch 24/100\n",
            "18/18 [==============================] - 2s 121ms/step - loss: 1.1038e-08 - accuracy: 1.0000 - val_loss: 5.0819e-05 - val_accuracy: 1.0000\n",
            "Epoch 25/100\n",
            "18/18 [==============================] - 2s 130ms/step - loss: 2.2076e-09 - accuracy: 1.0000 - val_loss: 5.8467e-05 - val_accuracy: 1.0000\n",
            "Epoch 26/100\n",
            "18/18 [==============================] - 2s 129ms/step - loss: 0.0000e+00 - accuracy: 1.0000 - val_loss: 5.1852e-05 - val_accuracy: 1.0000\n",
            "Epoch 27/100\n",
            "18/18 [==============================] - 2s 127ms/step - loss: 0.0000e+00 - accuracy: 1.0000 - val_loss: 4.6250e-05 - val_accuracy: 1.0000\n",
            "Epoch 28/100\n",
            "18/18 [==============================] - 2s 132ms/step - loss: 0.0000e+00 - accuracy: 1.0000 - val_loss: 4.1462e-05 - val_accuracy: 1.0000\n",
            "Epoch 29/100\n",
            "18/18 [==============================] - 2s 132ms/step - loss: 0.0000e+00 - accuracy: 1.0000 - val_loss: 3.9456e-05 - val_accuracy: 1.0000\n",
            "Epoch 30/100\n",
            "18/18 [==============================] - 2s 131ms/step - loss: 0.0000e+00 - accuracy: 1.0000 - val_loss: 3.7867e-05 - val_accuracy: 1.0000\n",
            "Epoch 31/100\n",
            "18/18 [==============================] - 2s 126ms/step - loss: 0.0000e+00 - accuracy: 1.0000 - val_loss: 3.6198e-05 - val_accuracy: 1.0000\n",
            "Epoch 32/100\n",
            "18/18 [==============================] - 2s 129ms/step - loss: 0.0000e+00 - accuracy: 1.0000 - val_loss: 3.4609e-05 - val_accuracy: 1.0000\n",
            "Epoch 33/100\n",
            "18/18 [==============================] - 2s 126ms/step - loss: 0.0000e+00 - accuracy: 1.0000 - val_loss: 3.3337e-05 - val_accuracy: 1.0000\n",
            "Epoch 34/100\n",
            "18/18 [==============================] - 2s 124ms/step - loss: 0.0000e+00 - accuracy: 1.0000 - val_loss: 3.1867e-05 - val_accuracy: 1.0000\n",
            "Epoch 35/100\n",
            "18/18 [==============================] - 2s 126ms/step - loss: 0.0000e+00 - accuracy: 1.0000 - val_loss: 3.0437e-05 - val_accuracy: 1.0000\n",
            "Epoch 36/100\n",
            "18/18 [==============================] - 2s 128ms/step - loss: 0.0000e+00 - accuracy: 1.0000 - val_loss: 2.9662e-05 - val_accuracy: 1.0000\n",
            "Epoch 37/100\n",
            "18/18 [==============================] - 2s 131ms/step - loss: 0.0000e+00 - accuracy: 1.0000 - val_loss: 2.8947e-05 - val_accuracy: 1.0000\n",
            "Epoch 38/100\n",
            "18/18 [==============================] - 2s 125ms/step - loss: 0.0000e+00 - accuracy: 1.0000 - val_loss: 2.8371e-05 - val_accuracy: 1.0000\n",
            "Epoch 39/100\n",
            "18/18 [==============================] - 2s 128ms/step - loss: 0.0000e+00 - accuracy: 1.0000 - val_loss: 2.7596e-05 - val_accuracy: 1.0000\n",
            "Epoch 40/100\n",
            "18/18 [==============================] - 2s 127ms/step - loss: 0.0000e+00 - accuracy: 1.0000 - val_loss: 2.7139e-05 - val_accuracy: 1.0000\n",
            "Epoch 41/100\n",
            "18/18 [==============================] - 2s 130ms/step - loss: 0.0000e+00 - accuracy: 1.0000 - val_loss: 2.6285e-05 - val_accuracy: 1.0000\n",
            "Epoch 42/100\n",
            "18/18 [==============================] - 2s 128ms/step - loss: 0.0000e+00 - accuracy: 1.0000 - val_loss: 2.5788e-05 - val_accuracy: 1.0000\n",
            "Epoch 43/100\n",
            "18/18 [==============================] - 2s 129ms/step - loss: 0.0000e+00 - accuracy: 1.0000 - val_loss: 2.5391e-05 - val_accuracy: 1.0000\n",
            "Epoch 44/100\n",
            "18/18 [==============================] - 2s 126ms/step - loss: 0.0000e+00 - accuracy: 1.0000 - val_loss: 2.4556e-05 - val_accuracy: 1.0000\n",
            "Epoch 45/100\n",
            "18/18 [==============================] - 2s 128ms/step - loss: 0.0000e+00 - accuracy: 1.0000 - val_loss: 2.4079e-05 - val_accuracy: 1.0000\n",
            "Epoch 46/100\n",
            "18/18 [==============================] - 2s 130ms/step - loss: 0.0000e+00 - accuracy: 1.0000 - val_loss: 2.3543e-05 - val_accuracy: 1.0000\n",
            "Epoch 47/100\n",
            "18/18 [==============================] - 2s 126ms/step - loss: 0.0000e+00 - accuracy: 1.0000 - val_loss: 2.3225e-05 - val_accuracy: 1.0000\n",
            "Epoch 48/100\n",
            "18/18 [==============================] - 2s 129ms/step - loss: 0.0000e+00 - accuracy: 1.0000 - val_loss: 2.2689e-05 - val_accuracy: 1.0000\n",
            "Epoch 49/100\n",
            "18/18 [==============================] - 2s 126ms/step - loss: 0.0000e+00 - accuracy: 1.0000 - val_loss: 2.2470e-05 - val_accuracy: 1.0000\n",
            "Epoch 50/100\n",
            "18/18 [==============================] - 2s 130ms/step - loss: 0.0000e+00 - accuracy: 1.0000 - val_loss: 2.2013e-05 - val_accuracy: 1.0000\n",
            "Epoch 51/100\n",
            "18/18 [==============================] - 2s 126ms/step - loss: 0.0000e+00 - accuracy: 1.0000 - val_loss: 2.1517e-05 - val_accuracy: 1.0000\n",
            "Epoch 52/100\n",
            "18/18 [==============================] - 2s 122ms/step - loss: 0.0000e+00 - accuracy: 1.0000 - val_loss: 2.1238e-05 - val_accuracy: 1.0000\n",
            "Epoch 53/100\n",
            "18/18 [==============================] - 2s 127ms/step - loss: 0.0000e+00 - accuracy: 1.0000 - val_loss: 2.0861e-05 - val_accuracy: 1.0000\n",
            "Epoch 54/100\n",
            "18/18 [==============================] - 2s 129ms/step - loss: 0.0000e+00 - accuracy: 1.0000 - val_loss: 2.0503e-05 - val_accuracy: 1.0000\n",
            "Epoch 55/100\n",
            "18/18 [==============================] - 2s 124ms/step - loss: 0.0000e+00 - accuracy: 1.0000 - val_loss: 2.0225e-05 - val_accuracy: 1.0000\n",
            "Epoch 56/100\n",
            "18/18 [==============================] - 2s 122ms/step - loss: 0.0000e+00 - accuracy: 1.0000 - val_loss: 1.9927e-05 - val_accuracy: 1.0000\n",
            "Epoch 57/100\n",
            "18/18 [==============================] - 2s 125ms/step - loss: 0.0000e+00 - accuracy: 1.0000 - val_loss: 1.9629e-05 - val_accuracy: 1.0000\n",
            "Epoch 58/100\n",
            "18/18 [==============================] - 2s 128ms/step - loss: 0.0000e+00 - accuracy: 1.0000 - val_loss: 1.9311e-05 - val_accuracy: 1.0000\n",
            "Epoch 59/100\n",
            "18/18 [==============================] - 2s 130ms/step - loss: 0.0000e+00 - accuracy: 1.0000 - val_loss: 1.9013e-05 - val_accuracy: 1.0000\n",
            "Epoch 60/100\n",
            "18/18 [==============================] - 2s 129ms/step - loss: 0.0000e+00 - accuracy: 1.0000 - val_loss: 1.8755e-05 - val_accuracy: 1.0000\n",
            "Epoch 61/100\n",
            "18/18 [==============================] - 2s 131ms/step - loss: 0.0000e+00 - accuracy: 1.0000 - val_loss: 1.8517e-05 - val_accuracy: 1.0000\n",
            "Epoch 62/100\n",
            "18/18 [==============================] - 2s 138ms/step - loss: 0.0000e+00 - accuracy: 1.0000 - val_loss: 1.8338e-05 - val_accuracy: 1.0000\n",
            "Epoch 63/100\n",
            "18/18 [==============================] - 2s 130ms/step - loss: 0.0000e+00 - accuracy: 1.0000 - val_loss: 1.8080e-05 - val_accuracy: 1.0000\n",
            "Epoch 64/100\n",
            "18/18 [==============================] - 2s 126ms/step - loss: 0.0000e+00 - accuracy: 1.0000 - val_loss: 1.7881e-05 - val_accuracy: 1.0000\n",
            "Epoch 65/100\n",
            "18/18 [==============================] - 2s 128ms/step - loss: 0.0000e+00 - accuracy: 1.0000 - val_loss: 1.7623e-05 - val_accuracy: 1.0000\n",
            "Epoch 66/100\n",
            "18/18 [==============================] - 2s 132ms/step - loss: 0.0000e+00 - accuracy: 1.0000 - val_loss: 1.7404e-05 - val_accuracy: 1.0000\n",
            "Epoch 67/100\n",
            "18/18 [==============================] - 2s 128ms/step - loss: 0.0000e+00 - accuracy: 1.0000 - val_loss: 1.7186e-05 - val_accuracy: 1.0000\n",
            "Epoch 68/100\n",
            "18/18 [==============================] - 2s 128ms/step - loss: 0.0000e+00 - accuracy: 1.0000 - val_loss: 1.7027e-05 - val_accuracy: 1.0000\n",
            "Epoch 69/100\n",
            "18/18 [==============================] - 2s 127ms/step - loss: 0.0000e+00 - accuracy: 1.0000 - val_loss: 1.6808e-05 - val_accuracy: 1.0000\n",
            "Epoch 70/100\n",
            "18/18 [==============================] - 2s 130ms/step - loss: 0.0000e+00 - accuracy: 1.0000 - val_loss: 1.6609e-05 - val_accuracy: 1.0000\n",
            "Epoch 71/100\n",
            "18/18 [==============================] - 2s 128ms/step - loss: 0.0000e+00 - accuracy: 1.0000 - val_loss: 1.6391e-05 - val_accuracy: 1.0000\n",
            "Epoch 72/100\n",
            "18/18 [==============================] - 2s 128ms/step - loss: 0.0000e+00 - accuracy: 1.0000 - val_loss: 1.6252e-05 - val_accuracy: 1.0000\n",
            "Epoch 73/100\n",
            "18/18 [==============================] - 2s 127ms/step - loss: 0.0000e+00 - accuracy: 1.0000 - val_loss: 1.6113e-05 - val_accuracy: 1.0000\n",
            "Epoch 74/100\n",
            "18/18 [==============================] - 2s 126ms/step - loss: 0.0000e+00 - accuracy: 1.0000 - val_loss: 1.5934e-05 - val_accuracy: 1.0000\n",
            "Epoch 75/100\n",
            "18/18 [==============================] - 2s 125ms/step - loss: 0.0000e+00 - accuracy: 1.0000 - val_loss: 1.5795e-05 - val_accuracy: 1.0000\n",
            "Epoch 76/100\n",
            "18/18 [==============================] - 2s 129ms/step - loss: 0.0000e+00 - accuracy: 1.0000 - val_loss: 1.5676e-05 - val_accuracy: 1.0000\n",
            "Epoch 77/100\n",
            "18/18 [==============================] - 2s 129ms/step - loss: 0.0000e+00 - accuracy: 1.0000 - val_loss: 1.5517e-05 - val_accuracy: 1.0000\n",
            "Epoch 78/100\n",
            "18/18 [==============================] - 2s 128ms/step - loss: 0.0000e+00 - accuracy: 1.0000 - val_loss: 1.5358e-05 - val_accuracy: 1.0000\n",
            "Epoch 79/100\n",
            "18/18 [==============================] - 3s 153ms/step - loss: 0.0000e+00 - accuracy: 1.0000 - val_loss: 1.5219e-05 - val_accuracy: 1.0000\n",
            "Epoch 80/100\n",
            "18/18 [==============================] - 4s 214ms/step - loss: 0.0000e+00 - accuracy: 1.0000 - val_loss: 1.5080e-05 - val_accuracy: 1.0000\n",
            "Epoch 81/100\n",
            "18/18 [==============================] - 2s 130ms/step - loss: 0.0000e+00 - accuracy: 1.0000 - val_loss: 1.4941e-05 - val_accuracy: 1.0000\n",
            "Epoch 82/100\n",
            "18/18 [==============================] - 2s 126ms/step - loss: 0.0000e+00 - accuracy: 1.0000 - val_loss: 1.4801e-05 - val_accuracy: 1.0000\n",
            "Epoch 83/100\n",
            "18/18 [==============================] - 2s 125ms/step - loss: 0.0000e+00 - accuracy: 1.0000 - val_loss: 1.4722e-05 - val_accuracy: 1.0000\n",
            "Epoch 84/100\n",
            "18/18 [==============================] - 2s 130ms/step - loss: 0.0000e+00 - accuracy: 1.0000 - val_loss: 1.4583e-05 - val_accuracy: 1.0000\n",
            "Epoch 85/100\n",
            "18/18 [==============================] - 2s 128ms/step - loss: 0.0000e+00 - accuracy: 1.0000 - val_loss: 1.4484e-05 - val_accuracy: 1.0000\n",
            "Epoch 86/100\n",
            "18/18 [==============================] - 2s 125ms/step - loss: 0.0000e+00 - accuracy: 1.0000 - val_loss: 1.4325e-05 - val_accuracy: 1.0000\n",
            "Epoch 87/100\n",
            "18/18 [==============================] - 2s 125ms/step - loss: 0.0000e+00 - accuracy: 1.0000 - val_loss: 1.4186e-05 - val_accuracy: 1.0000\n",
            "Epoch 88/100\n",
            "18/18 [==============================] - 2s 130ms/step - loss: 0.0000e+00 - accuracy: 1.0000 - val_loss: 1.4047e-05 - val_accuracy: 1.0000\n",
            "Epoch 89/100\n",
            "18/18 [==============================] - 2s 124ms/step - loss: 0.0000e+00 - accuracy: 1.0000 - val_loss: 1.3947e-05 - val_accuracy: 1.0000\n",
            "Epoch 90/100\n",
            "18/18 [==============================] - 2s 128ms/step - loss: 0.0000e+00 - accuracy: 1.0000 - val_loss: 1.3828e-05 - val_accuracy: 1.0000\n",
            "Epoch 91/100\n",
            "18/18 [==============================] - 2s 126ms/step - loss: 0.0000e+00 - accuracy: 1.0000 - val_loss: 1.3729e-05 - val_accuracy: 1.0000\n",
            "Epoch 92/100\n",
            "18/18 [==============================] - 2s 124ms/step - loss: 0.0000e+00 - accuracy: 1.0000 - val_loss: 1.3629e-05 - val_accuracy: 1.0000\n",
            "Epoch 93/100\n",
            "18/18 [==============================] - 2s 124ms/step - loss: 0.0000e+00 - accuracy: 1.0000 - val_loss: 1.3550e-05 - val_accuracy: 1.0000\n",
            "Epoch 94/100\n",
            "18/18 [==============================] - 2s 124ms/step - loss: 0.0000e+00 - accuracy: 1.0000 - val_loss: 1.3451e-05 - val_accuracy: 1.0000\n",
            "Epoch 95/100\n",
            "18/18 [==============================] - 2s 127ms/step - loss: 0.0000e+00 - accuracy: 1.0000 - val_loss: 1.3351e-05 - val_accuracy: 1.0000\n",
            "Epoch 96/100\n",
            "18/18 [==============================] - 2s 126ms/step - loss: 0.0000e+00 - accuracy: 1.0000 - val_loss: 1.3232e-05 - val_accuracy: 1.0000\n",
            "Epoch 97/100\n",
            "18/18 [==============================] - 2s 133ms/step - loss: 0.0000e+00 - accuracy: 1.0000 - val_loss: 1.3172e-05 - val_accuracy: 1.0000\n",
            "Epoch 98/100\n",
            "18/18 [==============================] - 4s 239ms/step - loss: 0.0000e+00 - accuracy: 1.0000 - val_loss: 1.3053e-05 - val_accuracy: 1.0000\n",
            "Epoch 99/100\n",
            "18/18 [==============================] - 3s 166ms/step - loss: 0.0000e+00 - accuracy: 1.0000 - val_loss: 1.2954e-05 - val_accuracy: 1.0000\n",
            "Epoch 100/100\n",
            "18/18 [==============================] - 2s 131ms/step - loss: 0.0000e+00 - accuracy: 1.0000 - val_loss: 1.2874e-05 - val_accuracy: 1.0000\n"
          ]
        }
      ]
    },
    {
      "cell_type": "code",
      "source": [
        "import matplotlib.pyplot as plt\n",
        "\n",
        "fig, loss_ax = plt.subplots(figsize=(15,5))\n",
        "acc_ax = loss_ax.twinx()\n",
        "\n",
        "loss_ax.plot(hist_CS.history['loss'],'y', label = 'train loss')\n",
        "loss_ax.plot(hist_CS.history['val_loss'],'r', label = 'val loss')\n",
        "acc_ax.plot(hist_CS.history['accuracy'],'b', label = 'train acc')\n",
        "acc_ax.plot(hist_CS.history['val_accuracy'],'g', label = 'val acc')\n",
        "\n",
        "loss_ax.set_xlabel('epoch')\n",
        "loss_ax.set_ylabel('loss')\n",
        "acc_ax.set_ylabel('accuracy')\n",
        "loss_ax.legend(loc='upper left')\n",
        "acc_ax.legend(loc='lower left')\n",
        "\n",
        "plt.show()"
      ],
      "metadata": {
        "id": "yztgThqFRmw2",
        "colab": {
          "base_uri": "https://localhost:8080/",
          "height": 334
        },
        "outputId": "9c22e73b-faac-439f-f2a6-364679847d2d"
      },
      "execution_count": null,
      "outputs": [
        {
          "output_type": "display_data",
          "data": {
            "text/plain": [
              "<Figure size 1080x360 with 2 Axes>"
            ],
            "image/png": "[encoded data removed]"
          },
          "metadata": {
            "needs_background": "light"
          }
        }
      ]
    },
    {
      "cell_type": "code",
      "source": [
        "fig, loss_ax = plt.subplots(figsize=(15,5))\n",
        "acc_ax = loss_ax.twinx()\n",
        "\n",
        "loss_ax.plot(hist_CNN.history['loss'],'y', label = 'train loss')\n",
        "loss_ax.plot(hist_CNN.history['val_loss'],'r', label = 'val loss')\n",
        "acc_ax.plot(hist_CNN.history['accuracy'],'b', label = 'train acc')\n",
        "acc_ax.plot(hist_CNN.history['val_accuracy'],'g', label = 'val acc')\n",
        "\n",
        "loss_ax.set_xlabel('epoch')\n",
        "loss_ax.set_ylabel('loss')\n",
        "acc_ax.set_ylabel('accuracy')\n",
        "loss_ax.legend(loc='upper left')\n",
        "acc_ax.legend(loc='lower left')\n",
        "\n",
        "plt.show()"
      ],
      "metadata": {
        "id": "4KTz3nereUgI",
        "colab": {
          "base_uri": "https://localhost:8080/",
          "height": 337
        },
        "outputId": "423dc48f-4dc5-4799-a8de-7690a6ce93d2"
      },
      "execution_count": null,
      "outputs": [
        {
          "output_type": "display_data",
          "data": {
            "text/plain": [
              "<Figure size 1080x360 with 2 Axes>"
            ],
            "image/png": "[encoded data removed]"
          },
          "metadata": {
            "needs_background": "light"
          }
        }
      ]
    },
    {
      "cell_type": "code",
      "source": [
        "score_CS = model_CS.evaluate(X_test, y_test)\n",
        "score_CNN = model_CNN.evaluate(X_test_img, y_test_img)\n",
        "print('test_loss : ' , score_CNN[0], 'test_acc :' , score_CNN[1])\n",
        "print('test_loss : ' , score_CS[0], 'test_acc :' , score_CS[1])"
      ],
      "metadata": {
        "id": "Fp8tmF1Tckc-",
        "colab": {
          "base_uri": "https://localhost:8080/"
        },
        "outputId": "32c18bd4-a3a9-4a72-f43d-e82ddc8bb9fe"
      },
      "execution_count": null,
      "outputs": [
        {
          "output_type": "stream",
          "name": "stdout",
          "text": [
            "1/1 [==============================] - 1s 563ms/step - loss: 0.7507 - accuracy: 0.6000\n",
            "1/1 [==============================] - 1s 1s/step - loss: 3.2857e-05 - accuracy: 1.0000\n",
            "test_loss :  3.285749698989093e-05 test_acc : 1.0\n",
            "test_loss :  0.7507456541061401 test_acc : 0.6000000238418579\n"
          ]
        }
      ]
    }
  ]
}