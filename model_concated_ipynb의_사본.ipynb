{
  "cells": [
    {
      "cell_type": "code",
      "execution_count": null,
      "metadata": {
        "colab": {
          "base_uri": "https://localhost:8080/"
        },
        "id": "pwm1z8meyd2U",
        "outputId": "1574a681-f93e-45e3-d1ae-0042d6816f60"
      },
      "outputs": [
        {
          "name": "stdout",
          "output_type": "stream",
          "text": [
            "Looking in indexes: https://pypi.org/simple, https://us-python.pkg.dev/colab-wheels/public/simple/\n",
            "Collecting konlpy\n",
            "  Downloading konlpy-0.6.0-py2.py3-none-any.whl (19.4 MB)\n",
            "\u001b[K     |████████████████████████████████| 19.4 MB 1.2 MB/s \n",
            "\u001b[?25hRequirement already satisfied: numpy>=1.6 in /usr/local/lib/python3.8/dist-packages (from konlpy) (1.21.6)\n",
            "Collecting JPype1>=0.7.0\n",
            "  Downloading JPype1-1.4.1-cp38-cp38-manylinux_2_12_x86_64.manylinux2010_x86_64.whl (465 kB)\n",
            "\u001b[K     |████████████████████████████████| 465 kB 67.8 MB/s \n",
            "\u001b[?25hRequirement already satisfied: lxml>=4.1.0 in /usr/local/lib/python3.8/dist-packages (from konlpy) (4.9.1)\n",
            "Requirement already satisfied: packaging in /usr/local/lib/python3.8/dist-packages (from JPype1>=0.7.0->konlpy) (21.3)\n",
            "Requirement already satisfied: pyparsing!=3.0.5,>=2.0.2 in /usr/local/lib/python3.8/dist-packages (from packaging->JPype1>=0.7.0->konlpy) (3.0.9)\n",
            "Installing collected packages: JPype1, konlpy\n",
            "Successfully installed JPype1-1.4.1 konlpy-0.6.0\n"
          ]
        }
      ],
      "source": [
        "!pip install konlpy"
      ]
    },
    {
      "cell_type": "code",
      "execution_count": null,
      "metadata": {
        "colab": {
          "base_uri": "https://localhost:8080/"
        },
        "id": "I72eCsht8qt-",
        "outputId": "8ee64ebc-3357-464d-f437-614a50a821ff"
      },
      "outputs": [
        {
          "name": "stdout",
          "output_type": "stream",
          "text": [
            "Mounted at /content/gdrive\n"
          ]
        }
      ],
      "source": [
        "from google.colab import drive\n",
        "drive.mount('/content/gdrive')"
      ]
    },
    {
      "cell_type": "code",
      "execution_count": null,
      "metadata": {
        "id": "CqV_H4mcctQX"
      },
      "outputs": [],
      "source": [
        "import pandas as pd\n",
        "\n",
        "df = pd.read_excel(\"/content/gdrive/MyDrive/Colab Notebooks/ai/식품/dataset.xlsx\")\n",
        "X= pd.DataFrame({ 'Name' : df.iloc[:,0] })\n",
        "y= pd.DataFrame({ 'S' : df.iloc[0:,2] })"
      ]
    },
    {
      "cell_type": "code",
      "execution_count": null,
      "metadata": {
        "colab": {
          "base_uri": "https://localhost:8080/"
        },
        "id": "I9CS9hjj2313",
        "outputId": "c8390c27-8e13-48c0-c433-c8634c15e05e"
      },
      "outputs": [
        {
          "name": "stdout",
          "output_type": "stream",
          "text": [
            "                                                 Name\n",
            "0                   [꿀, 당, 도, 프리미엄, 정품, 사과, 당, 도선, 별]\n",
            "1     [프레, 샤인, 충주, 인증, 당, 도선, 별, 작아도, 맛있는, 꼬마, 사과, 봉]\n",
            "2                  [곰곰, 의성, 껍질, 째, 먹는, 세척, 사과, 박스, 입]\n",
            "3             [하이, 프루츠, 저, 탄소, 인증, 의성, 사과, 과, 내외, 대과]\n",
            "4                        [곰곰, 당, 도선, 별, 사과, 햇, 봉, 대과]\n",
            "..                                                ...\n",
            "75               [참다, 올, 남양주, 먹골, 배, 프리미엄, 선물, 세트, 과]\n",
            "76  [품평, 회, 대상, 명품, 햇, 나주, 배, 선물, 세트, 나주, 배, 선물, 세...\n",
            "77      [아산, 배, 농협, 배, 산지, 직송, 서양배, 스, 위트, 센세이션, 유렵배]\n",
            "78        [소담, 촌, 수확, 햇배, 가정, 용, 첫, 수확, 박스, 과, 중소, 과]\n",
            "79  [품평, 회, 대상, 명품, 햇, 나주, 배, 선물, 세트, 나주, 배, 선물, 세...\n",
            "\n",
            "[80 rows x 1 columns]\n",
            "                                                 Name\n",
            "0             [183, 82, 146, 14, 19, 11, 82, 136, 58]\n",
            "1   [121, 138, 174, 4, 82, 136, 58, 129, 70, 61, 1...\n",
            "2            [147, 150, 1, 86, 107, 43, 11, 151, 155]\n",
            "3      [184, 133, 199, 141, 4, 150, 11, 52, 186, 207]\n",
            "4                [147, 82, 136, 58, 11, 196, 28, 207]\n",
            "..                                                ...\n",
            "75            [185, 127, 75, 104, 22, 14, 26, 33, 52]\n",
            "76  [21, 0, 105, 69, 196, 97, 22, 26, 33, 97, 22, ...\n",
            "77  [197, 22, 72, 22, 117, 67, 78, 119, 169, 157, 66]\n",
            "78  [200, 42, 39, 9, 3, 187, 10, 39, 151, 52, 111,...\n",
            "79  [21, 0, 105, 69, 196, 97, 22, 26, 33, 97, 22, ...\n",
            "\n",
            "[80 rows x 1 columns]\n"
          ]
        }
      ],
      "source": [
        "import re\n",
        "from konlpy.tag import Okt  \n",
        "okt=Okt()  \n",
        "sub_dic = [] ; dic = {} ; lst = []\n",
        "for i, item in enumerate(list(X.iloc[:,0])):\n",
        "    sub_str = re.sub('[a-zA-Z0-9]', \"\", item)\n",
        "    X.iloc[i,0] = re.sub(r\"[^\\uAC00-\\uD7A30-9a-zA-Z\\s]\", \"\", sub_str)\n",
        "    X.iloc[i,0] = okt.morphs(X.iloc[i,0])\n",
        "    Max = max(len(X.iloc[i,0]), len(X.iloc[i-1,0]))\n",
        "    sub_dic.extend(X.iloc[i,0])\n",
        "\n",
        "sub_dic = list(set(sub_dic))\n",
        "print(X)\n",
        "for i, item in enumerate(sub_dic):\n",
        "  dic[item] = i\n",
        "\n",
        "for i, item in enumerate(list(X.iloc[:,0])):\n",
        "  for j in item:\n",
        "    lst.append(dic[j])\n",
        "  X.iloc[i,0] = lst\n",
        "  lst = []\n",
        "print(X)"
      ]
    },
    {
      "cell_type": "code",
      "execution_count": null,
      "metadata": {
        "id": "sCkxK-fkxZ4N"
      },
      "outputs": [],
      "source": [
        "import tensorflow as tf\n",
        "from tensorflow.keras import layers\n",
        "from keras.models import Model\n",
        "from tensorflow.keras.preprocessing import sequence\n",
        "\n",
        "label = y.iloc[:,0].unique()\n",
        "for i,item in enumerate(label):\n",
        "  y = y.replace(item,i)\n",
        "y = tf.keras.utils.to_categorical(y,2)\n",
        "\n",
        "X = sequence.pad_sequences(X.iloc[:,0], maxlen = 14)"
      ]
    },
    {
      "cell_type": "code",
      "execution_count": null,
      "metadata": {
        "colab": {
          "base_uri": "https://localhost:8080/"
        },
        "id": "q7_yNyx4nC7w",
        "outputId": "782b43a0-9f8f-4946-fd3d-669c3fe2ff99"
      },
      "outputs": [
        {
          "name": "stderr",
          "output_type": "stream",
          "text": [
            "<ipython-input-6-2d6ff8c53164>:9: DeprecationWarning: The binary mode of fromstring is deprecated, as it behaves surprisingly on unicode inputs. Use frombuffer instead\n",
            "  im_arr = np.fromstring(image.tobytes(), dtype=np.uint8)\n"
          ]
        },
        {
          "name": "stdout",
          "output_type": "stream",
          "text": [
            "(80, 224, 224, 3)\n",
            "80\n"
          ]
        }
      ],
      "source": [
        "import numpy as np\n",
        "from PIL import Image\n",
        "import matplotlib.pyplot as plt\n",
        "import os\n",
        "\n",
        "def jpg_image_to_array(image_path,size):\n",
        "  image = Image.open(image_path)\n",
        "  image = image.resize((size,size))\n",
        "  im_arr = np.fromstring(image.tobytes(), dtype=np.uint8)\n",
        "  im_arr = im_arr.reshape((image.size[1], image.size[0], 3))\n",
        "  return im_arr\n",
        "\n",
        "dir = '/content/gdrive/MyDrive/Colab Notebooks/ai/식품/사과,배'\n",
        "\n",
        "subdir_names = os.listdir(dir)\n",
        "X_img = [] ; y_img = []\n",
        "for subdir_name in subdir_names:\n",
        "  subdir = dir + \"/\" + subdir_name\n",
        "  file_names = os.listdir(subdir)\n",
        "  for file_name in file_names:\n",
        "    path = subdir + \"/\" + file_name\n",
        "    arr = jpg_image_to_array(path, 224)\n",
        "    if len(X_img)==0:\n",
        "      X_img = [arr]\n",
        "      y_img.append(str(subdir_name))\n",
        "\n",
        "    else:\n",
        "      X_img = np.concatenate((X_img, [arr]))\n",
        "      y_img.append(str(subdir_name))\n",
        "\n",
        "\n",
        "print(X_img.shape)\n",
        "print(len(y_img))\n"
      ]
    },
    {
      "cell_type": "code",
      "execution_count": null,
      "metadata": {
        "id": "prUp1ZXdL_CZ"
      },
      "outputs": [],
      "source": [
        "X_img = X_img/255"
      ]
    },
    {
      "cell_type": "code",
      "execution_count": null,
      "metadata": {
        "id": "vn3fk0xT3Wm0"
      },
      "outputs": [],
      "source": [
        "y_img = pd.DataFrame(y_img, dtype='str')\n",
        "label = y_img.iloc[:,0].unique()\n",
        "for i,item in enumerate(label):\n",
        "  y_img = y_img.replace(item,i)\n",
        "y_img = tf.keras.utils.to_categorical(y_img,2)"
      ]
    },
    {
      "cell_type": "code",
      "execution_count": null,
      "metadata": {
        "id": "PhccvaJI4jiY"
      },
      "outputs": [],
      "source": [
        "from sklearn.model_selection import train_test_split\n",
        "X_train, X_test, y_train, y_test = train_test_split(X, y, stratify=y, test_size=0.25, random_state=77)\n",
        "X_train_img, X_test_img, y_train_img, y_test_img = train_test_split(X_img, y_img, stratify=y, test_size=0.25, random_state=77)"
      ]
    },
    {
      "cell_type": "code",
      "execution_count": null,
      "metadata": {
        "id": "baq6ZVBT2y10"
      },
      "outputs": [],
      "source": [
        "for i, j in zip(y_test, y_test_img):\n",
        "  if i[0] == j[0]:\n",
        "    continue\n",
        "  else:\n",
        "    print(i, j)\n",
        "    print('타겟 데이터가 다른 record끼리 연결되었습니다.')\n",
        "    break"
      ]
    },
    {
      "cell_type": "code",
      "execution_count": null,
      "metadata": {
        "id": "2YZHgEKcLIno"
      },
      "outputs": [],
      "source": [
        "model_CS_input = layers.Input((14,1))\n",
        "model_CS = layers.Conv1D(filters=16, kernel_size=2, strides=1, padding='same', \n",
        "                        activation='relu')(model_CS_input)\n",
        "model_CS = layers.LSTM(64)(model_CS)\n",
        "model_CS = layers.Dense(2, activation='sigmoid')(model_CS)\n",
        "\n",
        "import tensorflow_hub as hub\n",
        "\n",
        "url = 'https://tfhub.dev/google/tf2-preview/mobilenet_v2/classification/2'\n",
        "model_CNN_input = layers.Input((224, 224, 3))\n",
        "model_CNN = hub.KerasLayer(handle = url, trainable = False)(model_CNN_input)\n",
        "model_CNN = layers.Flatten()(model_CNN)\n",
        "model_CNN = layers.Dense(2, activation='sigmoid')(model_CNN)\n",
        "\n"
      ]
    },
    {
      "cell_type": "code",
      "execution_count": null,
      "metadata": {
        "id": "x7qICPGwlYef"
      },
      "outputs": [],
      "source": [
        "merged = tf.keras.layers.Concatenate()([model_CNN, model_CS])\n",
        "merged = layers.Dense(8, activation='relu')(merged)\n",
        "output = layers.Dense(2, activation='sigmoid')(merged)\n",
        "model_final = Model(inputs=[model_CS_input, model_CNN_input], outputs=[output])"
      ]
    },
    {
      "cell_type": "code",
      "execution_count": null,
      "metadata": {
        "id": "czleOb8SrwP8"
      },
      "outputs": [],
      "source": [
        "model_final.compile(optimizer=tf.keras.optimizers.RMSprop(0.001),\n",
        "              loss='binary_crossentropy',\n",
        "              metrics=['accuracy'])"
      ]
    },
    {
      "cell_type": "code",
      "execution_count": null,
      "metadata": {
        "colab": {
          "background_save": true,
          "base_uri": "https://localhost:8080/"
        },
        "id": "cEG_BoZLtYTu",
        "outputId": "a44cd7e7-b283-491c-f5c0-b7c4e28708a8"
      },
      "outputs": [
        {
          "name": "stdout",
          "output_type": "stream",
          "text": [
            "Epoch 1/100\n",
            "18/18 [==============================] - 15s 231ms/step - loss: 0.6812 - accuracy: 0.7037 - val_loss: 0.6464 - val_accuracy: 1.0000\n",
            "Epoch 2/100\n",
            "18/18 [==============================] - 2s 123ms/step - loss: 0.6376 - accuracy: 0.9259 - val_loss: 0.6180 - val_accuracy: 1.0000\n",
            "Epoch 3/100\n",
            "18/18 [==============================] - 2s 126ms/step - loss: 0.6039 - accuracy: 0.9630 - val_loss: 0.6096 - val_accuracy: 1.0000\n",
            "Epoch 4/100\n",
            "18/18 [==============================] - 2s 122ms/step - loss: 0.5767 - accuracy: 0.9815 - val_loss: 0.5824 - val_accuracy: 1.0000\n",
            "Epoch 5/100\n",
            "18/18 [==============================] - 2s 125ms/step - loss: 0.5540 - accuracy: 1.0000 - val_loss: 0.5647 - val_accuracy: 1.0000\n",
            "Epoch 6/100\n",
            "18/18 [==============================] - 2s 123ms/step - loss: 0.5323 - accuracy: 1.0000 - val_loss: 0.5554 - val_accuracy: 1.0000\n",
            "Epoch 7/100\n",
            "18/18 [==============================] - 2s 121ms/step - loss: 0.5105 - accuracy: 1.0000 - val_loss: 0.5336 - val_accuracy: 1.0000\n",
            "Epoch 8/100\n",
            "18/18 [==============================] - 2s 121ms/step - loss: 0.4901 - accuracy: 1.0000 - val_loss: 0.5101 - val_accuracy: 1.0000\n",
            "Epoch 9/100\n",
            "18/18 [==============================] - 2s 123ms/step - loss: 0.4683 - accuracy: 1.0000 - val_loss: 0.5074 - val_accuracy: 1.0000\n",
            "Epoch 10/100\n",
            "18/18 [==============================] - 3s 147ms/step - loss: 0.4497 - accuracy: 1.0000 - val_loss: 0.4761 - val_accuracy: 1.0000\n",
            "Epoch 11/100\n",
            "18/18 [==============================] - 2s 120ms/step - loss: 0.4288 - accuracy: 1.0000 - val_loss: 0.4553 - val_accuracy: 1.0000\n",
            "Epoch 12/100\n",
            "18/18 [==============================] - 2s 120ms/step - loss: 0.4115 - accuracy: 1.0000 - val_loss: 0.4394 - val_accuracy: 1.0000\n",
            "Epoch 13/100\n",
            "18/18 [==============================] - 2s 120ms/step - loss: 0.3921 - accuracy: 1.0000 - val_loss: 0.4263 - val_accuracy: 1.0000\n",
            "Epoch 14/100\n",
            "18/18 [==============================] - 2s 120ms/step - loss: 0.3737 - accuracy: 1.0000 - val_loss: 0.4072 - val_accuracy: 1.0000\n",
            "Epoch 15/100\n",
            "18/18 [==============================] - 2s 123ms/step - loss: 0.3568 - accuracy: 1.0000 - val_loss: 0.3906 - val_accuracy: 1.0000\n",
            "Epoch 16/100\n",
            "18/18 [==============================] - 2s 138ms/step - loss: 0.3380 - accuracy: 1.0000 - val_loss: 0.3718 - val_accuracy: 1.0000\n",
            "Epoch 17/100\n",
            "18/18 [==============================] - 3s 178ms/step - loss: 0.3209 - accuracy: 1.0000 - val_loss: 0.3641 - val_accuracy: 1.0000\n",
            "Epoch 18/100\n",
            "18/18 [==============================] - 3s 148ms/step - loss: 0.3041 - accuracy: 1.0000 - val_loss: 0.3372 - val_accuracy: 1.0000\n",
            "Epoch 19/100\n",
            "18/18 [==============================] - 4s 209ms/step - loss: 0.2856 - accuracy: 1.0000 - val_loss: 0.3213 - val_accuracy: 1.0000\n",
            "Epoch 20/100\n",
            "18/18 [==============================] - 3s 146ms/step - loss: 0.2694 - accuracy: 1.0000 - val_loss: 0.3061 - val_accuracy: 1.0000\n",
            "Epoch 21/100\n",
            "18/18 [==============================] - 2s 122ms/step - loss: 0.2531 - accuracy: 1.0000 - val_loss: 0.2971 - val_accuracy: 1.0000\n",
            "Epoch 22/100\n",
            "18/18 [==============================] - 2s 121ms/step - loss: 0.2362 - accuracy: 1.0000 - val_loss: 0.2849 - val_accuracy: 1.0000\n",
            "Epoch 23/100\n",
            "18/18 [==============================] - 2s 123ms/step - loss: 0.2217 - accuracy: 1.0000 - val_loss: 0.2612 - val_accuracy: 1.0000\n",
            "Epoch 24/100\n",
            "18/18 [==============================] - 2s 123ms/step - loss: 0.2041 - accuracy: 1.0000 - val_loss: 0.2594 - val_accuracy: 1.0000\n",
            "Epoch 25/100\n",
            "18/18 [==============================] - 2s 128ms/step - loss: 0.1925 - accuracy: 1.0000 - val_loss: 0.2286 - val_accuracy: 1.0000\n",
            "Epoch 26/100\n",
            "18/18 [==============================] - 2s 124ms/step - loss: 0.1781 - accuracy: 1.0000 - val_loss: 0.2292 - val_accuracy: 1.0000\n",
            "Epoch 27/100\n",
            "18/18 [==============================] - 2s 123ms/step - loss: 0.1632 - accuracy: 1.0000 - val_loss: 0.2096 - val_accuracy: 1.0000\n",
            "Epoch 28/100\n",
            "18/18 [==============================] - 2s 124ms/step - loss: 0.1499 - accuracy: 1.0000 - val_loss: 0.2019 - val_accuracy: 1.0000\n",
            "Epoch 29/100\n",
            "18/18 [==============================] - 2s 126ms/step - loss: 0.1374 - accuracy: 1.0000 - val_loss: 0.1875 - val_accuracy: 1.0000\n",
            "Epoch 30/100\n",
            "18/18 [==============================] - 2s 122ms/step - loss: 0.1282 - accuracy: 1.0000 - val_loss: 0.1793 - val_accuracy: 1.0000\n",
            "Epoch 31/100\n",
            "18/18 [==============================] - 2s 125ms/step - loss: 0.1150 - accuracy: 1.0000 - val_loss: 0.1715 - val_accuracy: 1.0000\n",
            "Epoch 32/100\n",
            "18/18 [==============================] - 2s 124ms/step - loss: 0.1060 - accuracy: 1.0000 - val_loss: 0.1518 - val_accuracy: 1.0000\n",
            "Epoch 33/100\n",
            "18/18 [==============================] - 2s 123ms/step - loss: 0.0995 - accuracy: 1.0000 - val_loss: 0.1407 - val_accuracy: 1.0000\n",
            "Epoch 34/100\n",
            "18/18 [==============================] - 2s 121ms/step - loss: 0.0862 - accuracy: 1.0000 - val_loss: 0.1351 - val_accuracy: 1.0000\n",
            "Epoch 35/100\n",
            "18/18 [==============================] - 2s 121ms/step - loss: 0.0804 - accuracy: 1.0000 - val_loss: 0.1273 - val_accuracy: 1.0000\n",
            "Epoch 36/100\n",
            "18/18 [==============================] - 2s 123ms/step - loss: 0.0709 - accuracy: 1.0000 - val_loss: 0.1118 - val_accuracy: 1.0000\n",
            "Epoch 37/100\n",
            "18/18 [==============================] - 2s 128ms/step - loss: 0.0635 - accuracy: 1.0000 - val_loss: 0.1005 - val_accuracy: 1.0000\n",
            "Epoch 38/100\n",
            "18/18 [==============================] - 3s 147ms/step - loss: 0.0613 - accuracy: 1.0000 - val_loss: 0.0970 - val_accuracy: 1.0000\n",
            "Epoch 39/100\n",
            "18/18 [==============================] - 2s 123ms/step - loss: 0.0505 - accuracy: 1.0000 - val_loss: 0.0883 - val_accuracy: 1.0000\n",
            "Epoch 40/100\n",
            "18/18 [==============================] - 2s 123ms/step - loss: 0.0453 - accuracy: 1.0000 - val_loss: 0.0837 - val_accuracy: 1.0000\n",
            "Epoch 41/100\n",
            "18/18 [==============================] - 2s 126ms/step - loss: 0.0404 - accuracy: 1.0000 - val_loss: 0.0804 - val_accuracy: 1.0000\n",
            "Epoch 42/100\n",
            "18/18 [==============================] - 2s 127ms/step - loss: 0.0378 - accuracy: 1.0000 - val_loss: 0.0733 - val_accuracy: 1.0000\n",
            "Epoch 43/100\n",
            "18/18 [==============================] - 2s 126ms/step - loss: 0.0329 - accuracy: 1.0000 - val_loss: 0.0675 - val_accuracy: 1.0000\n",
            "Epoch 44/100\n",
            "18/18 [==============================] - 2s 123ms/step - loss: 0.0296 - accuracy: 1.0000 - val_loss: 0.0697 - val_accuracy: 1.0000\n",
            "Epoch 45/100\n",
            "18/18 [==============================] - 2s 124ms/step - loss: 0.0262 - accuracy: 1.0000 - val_loss: 0.0588 - val_accuracy: 1.0000\n",
            "Epoch 46/100\n",
            "18/18 [==============================] - 2s 129ms/step - loss: 0.0222 - accuracy: 1.0000 - val_loss: 0.0611 - val_accuracy: 1.0000\n",
            "Epoch 47/100\n",
            "18/18 [==============================] - 2s 127ms/step - loss: 0.0207 - accuracy: 1.0000 - val_loss: 0.0524 - val_accuracy: 1.0000\n",
            "Epoch 48/100\n",
            "18/18 [==============================] - 2s 129ms/step - loss: 0.0175 - accuracy: 1.0000 - val_loss: 0.0450 - val_accuracy: 1.0000\n",
            "Epoch 49/100\n",
            "18/18 [==============================] - 2s 126ms/step - loss: 0.0164 - accuracy: 1.0000 - val_loss: 0.0334 - val_accuracy: 1.0000\n",
            "Epoch 50/100\n",
            "18/18 [==============================] - 2s 130ms/step - loss: 0.0141 - accuracy: 1.0000 - val_loss: 0.0355 - val_accuracy: 1.0000\n",
            "Epoch 51/100\n",
            "18/18 [==============================] - 2s 128ms/step - loss: 0.0119 - accuracy: 1.0000 - val_loss: 0.0339 - val_accuracy: 1.0000\n",
            "Epoch 52/100\n",
            "18/18 [==============================] - 2s 132ms/step - loss: 0.0113 - accuracy: 1.0000 - val_loss: 0.0357 - val_accuracy: 1.0000\n",
            "Epoch 53/100\n",
            "18/18 [==============================] - 2s 127ms/step - loss: 0.0095 - accuracy: 1.0000 - val_loss: 0.0305 - val_accuracy: 1.0000\n",
            "Epoch 54/100\n",
            "18/18 [==============================] - 2s 126ms/step - loss: 0.0084 - accuracy: 1.0000 - val_loss: 0.0300 - val_accuracy: 1.0000\n",
            "Epoch 55/100\n",
            "18/18 [==============================] - 2s 131ms/step - loss: 0.0084 - accuracy: 1.0000 - val_loss: 0.0285 - val_accuracy: 1.0000\n",
            "Epoch 56/100\n",
            "18/18 [==============================] - 2s 128ms/step - loss: 0.0066 - accuracy: 1.0000 - val_loss: 0.0282 - val_accuracy: 1.0000\n",
            "Epoch 57/100\n",
            "18/18 [==============================] - 2s 128ms/step - loss: 0.0059 - accuracy: 1.0000 - val_loss: 0.0279 - val_accuracy: 1.0000\n",
            "Epoch 58/100\n",
            "18/18 [==============================] - 2s 129ms/step - loss: 0.0053 - accuracy: 1.0000 - val_loss: 0.0242 - val_accuracy: 1.0000\n",
            "Epoch 59/100\n",
            "18/18 [==============================] - 2s 132ms/step - loss: 0.0048 - accuracy: 1.0000 - val_loss: 0.0236 - val_accuracy: 1.0000\n",
            "Epoch 60/100\n",
            "18/18 [==============================] - 2s 126ms/step - loss: 0.0045 - accuracy: 1.0000 - val_loss: 0.0224 - val_accuracy: 1.0000\n",
            "Epoch 61/100\n",
            "18/18 [==============================] - 2s 128ms/step - loss: 0.0039 - accuracy: 1.0000 - val_loss: 0.0202 - val_accuracy: 1.0000\n",
            "Epoch 62/100\n",
            "18/18 [==============================] - 2s 128ms/step - loss: 0.0036 - accuracy: 1.0000 - val_loss: 0.0174 - val_accuracy: 1.0000\n",
            "Epoch 63/100\n",
            "18/18 [==============================] - 2s 131ms/step - loss: 0.0032 - accuracy: 1.0000 - val_loss: 0.0158 - val_accuracy: 1.0000\n",
            "Epoch 64/100\n",
            "18/18 [==============================] - 2s 133ms/step - loss: 0.0029 - accuracy: 1.0000 - val_loss: 0.0264 - val_accuracy: 1.0000\n",
            "Epoch 65/100\n",
            "18/18 [==============================] - 2s 130ms/step - loss: 0.0030 - accuracy: 1.0000 - val_loss: 0.0145 - val_accuracy: 1.0000\n",
            "Epoch 66/100\n",
            "18/18 [==============================] - 2s 130ms/step - loss: 0.0024 - accuracy: 1.0000 - val_loss: 0.0132 - val_accuracy: 1.0000\n",
            "Epoch 67/100\n",
            "18/18 [==============================] - 2s 129ms/step - loss: 0.0022 - accuracy: 1.0000 - val_loss: 0.0122 - val_accuracy: 1.0000\n",
            "Epoch 68/100\n",
            "18/18 [==============================] - 2s 128ms/step - loss: 0.0021 - accuracy: 1.0000 - val_loss: 0.0142 - val_accuracy: 1.0000\n",
            "Epoch 69/100\n",
            "18/18 [==============================] - 2s 128ms/step - loss: 0.0019 - accuracy: 1.0000 - val_loss: 0.0120 - val_accuracy: 1.0000\n",
            "Epoch 70/100\n",
            "18/18 [==============================] - 2s 130ms/step - loss: 0.0018 - accuracy: 1.0000 - val_loss: 0.0251 - val_accuracy: 1.0000\n",
            "Epoch 71/100\n",
            "18/18 [==============================] - 2s 127ms/step - loss: 0.0017 - accuracy: 1.0000 - val_loss: 0.0114 - val_accuracy: 1.0000\n",
            "Epoch 72/100\n",
            "18/18 [==============================] - 2s 127ms/step - loss: 0.0015 - accuracy: 1.0000 - val_loss: 0.0104 - val_accuracy: 1.0000\n",
            "Epoch 73/100\n",
            "18/18 [==============================] - 2s 133ms/step - loss: 0.0014 - accuracy: 1.0000 - val_loss: 0.0094 - val_accuracy: 1.0000\n",
            "Epoch 74/100\n",
            "18/18 [==============================] - 2s 132ms/step - loss: 0.0014 - accuracy: 1.0000 - val_loss: 0.0120 - val_accuracy: 1.0000\n",
            "Epoch 75/100\n",
            "18/18 [==============================] - 2s 129ms/step - loss: 0.0012 - accuracy: 1.0000 - val_loss: 0.0097 - val_accuracy: 1.0000\n",
            "Epoch 76/100\n",
            "18/18 [==============================] - 2s 133ms/step - loss: 0.0011 - accuracy: 1.0000 - val_loss: 0.0087 - val_accuracy: 1.0000\n",
            "Epoch 77/100\n",
            "18/18 [==============================] - 2s 129ms/step - loss: 0.0011 - accuracy: 1.0000 - val_loss: 0.0086 - val_accuracy: 1.0000\n",
            "Epoch 78/100\n",
            "18/18 [==============================] - 2s 133ms/step - loss: 0.0010 - accuracy: 1.0000 - val_loss: 0.0078 - val_accuracy: 1.0000\n",
            "Epoch 79/100\n",
            "18/18 [==============================] - 2s 125ms/step - loss: 0.0011 - accuracy: 1.0000 - val_loss: 0.0103 - val_accuracy: 1.0000\n",
            "Epoch 80/100\n",
            "18/18 [==============================] - 2s 128ms/step - loss: 8.8447e-04 - accuracy: 1.0000 - val_loss: 0.0090 - val_accuracy: 1.0000\n",
            "Epoch 81/100\n",
            "18/18 [==============================] - 2s 129ms/step - loss: 8.2747e-04 - accuracy: 1.0000 - val_loss: 0.0082 - val_accuracy: 1.0000\n",
            "Epoch 82/100\n",
            "18/18 [==============================] - 2s 125ms/step - loss: 7.7455e-04 - accuracy: 1.0000 - val_loss: 0.0076 - val_accuracy: 1.0000\n",
            "Epoch 83/100\n",
            "18/18 [==============================] - 2s 125ms/step - loss: 7.3527e-04 - accuracy: 1.0000 - val_loss: 0.0085 - val_accuracy: 1.0000\n",
            "Epoch 84/100\n",
            "18/18 [==============================] - 2s 126ms/step - loss: 6.8768e-04 - accuracy: 1.0000 - val_loss: 0.0033 - val_accuracy: 1.0000\n",
            "Epoch 85/100\n",
            "18/18 [==============================] - 2s 126ms/step - loss: 8.0103e-04 - accuracy: 1.0000 - val_loss: 0.0066 - val_accuracy: 1.0000\n",
            "Epoch 86/100\n",
            "18/18 [==============================] - 2s 126ms/step - loss: 6.0477e-04 - accuracy: 1.0000 - val_loss: 0.0060 - val_accuracy: 1.0000\n",
            "Epoch 87/100\n",
            "18/18 [==============================] - 2s 125ms/step - loss: 5.6864e-04 - accuracy: 1.0000 - val_loss: 0.0055 - val_accuracy: 1.0000\n",
            "Epoch 88/100\n",
            "18/18 [==============================] - 2s 125ms/step - loss: 5.3895e-04 - accuracy: 1.0000 - val_loss: 0.0064 - val_accuracy: 1.0000\n",
            "Epoch 89/100\n",
            "18/18 [==============================] - 2s 126ms/step - loss: 5.1522e-04 - accuracy: 1.0000 - val_loss: 0.0061 - val_accuracy: 1.0000\n",
            "Epoch 90/100\n",
            "18/18 [==============================] - 2s 125ms/step - loss: 4.8111e-04 - accuracy: 1.0000 - val_loss: 0.0061 - val_accuracy: 1.0000\n",
            "Epoch 91/100\n",
            "18/18 [==============================] - 2s 125ms/step - loss: 4.5482e-04 - accuracy: 1.0000 - val_loss: 0.0054 - val_accuracy: 1.0000\n",
            "Epoch 92/100\n",
            "18/18 [==============================] - 2s 126ms/step - loss: 4.2792e-04 - accuracy: 1.0000 - val_loss: 0.0058 - val_accuracy: 1.0000\n",
            "Epoch 93/100\n",
            "18/18 [==============================] - 2s 125ms/step - loss: 4.0795e-04 - accuracy: 1.0000 - val_loss: 0.0039 - val_accuracy: 1.0000\n",
            "Epoch 94/100\n",
            "18/18 [==============================] - 2s 123ms/step - loss: 3.8738e-04 - accuracy: 1.0000 - val_loss: 0.0049 - val_accuracy: 1.0000\n",
            "Epoch 95/100\n",
            "18/18 [==============================] - 4s 237ms/step - loss: 3.6449e-04 - accuracy: 1.0000 - val_loss: 0.0042 - val_accuracy: 1.0000\n",
            "Epoch 96/100\n",
            "18/18 [==============================] - 2s 132ms/step - loss: 3.4761e-04 - accuracy: 1.0000 - val_loss: 0.0045 - val_accuracy: 1.0000\n",
            "Epoch 97/100\n",
            "18/18 [==============================] - 2s 122ms/step - loss: 3.3016e-04 - accuracy: 1.0000 - val_loss: 0.0039 - val_accuracy: 1.0000\n",
            "Epoch 98/100\n",
            "18/18 [==============================] - 2s 125ms/step - loss: 3.2217e-04 - accuracy: 1.0000 - val_loss: 0.0042 - val_accuracy: 1.0000\n",
            "Epoch 99/100\n",
            "18/18 [==============================] - 2s 126ms/step - loss: 2.9863e-04 - accuracy: 1.0000 - val_loss: 0.0044 - val_accuracy: 1.0000\n",
            "Epoch 100/100\n",
            "18/18 [==============================] - 2s 125ms/step - loss: 2.7715e-04 - accuracy: 1.0000 - val_loss: 0.0039 - val_accuracy: 1.0000\n"
          ]
        }
      ],
      "source": [
        "early_stop = tf.keras.callbacks.EarlyStopping(monitor='val_loss', patience=20)\n",
        "hist_Merge = model_final.fit([X_train,X_train_img],y_train,\n",
        "          batch_size=3,\n",
        "          epochs=100,\n",
        "          validation_split=0.1,\n",
        "          callbacks = early_stop,\n",
        "          shuffle=True,\n",
        "          verbose=1)"
      ]
    },
    {
      "cell_type": "code",
      "execution_count": null,
      "metadata": {
        "colab": {
          "background_save": true
        },
        "id": "4KTz3nereUgI",
        "outputId": "d9269048-6ab9-4b89-b655-bdf21b0d17d3"
      },
      "outputs": [
        {
          "data": {
            "image/png": "[encoded data removed]",
            "text/plain": [
              "<Figure size 1080x360 with 2 Axes>"
            ]
          },
          "metadata": {},
          "output_type": "display_data"
        }
      ],
      "source": [
        "fig, loss_ax = plt.subplots(figsize=(15,5))\n",
        "acc_ax = loss_ax.twinx()\n",
        "\n",
        "loss_ax.plot(hist_Merge.history['loss'],'y', label = 'train loss')\n",
        "loss_ax.plot(hist_Merge.history['val_loss'],'r', label = 'val loss')\n",
        "acc_ax.plot(hist_Merge.history['accuracy'],'b', label = 'train acc')\n",
        "acc_ax.plot(hist_Merge.history['val_accuracy'],'g', label = 'val acc')\n",
        "\n",
        "loss_ax.set_xlabel('epoch')\n",
        "loss_ax.set_ylabel('loss')\n",
        "acc_ax.set_ylabel('accuracy')\n",
        "loss_ax.legend(loc='upper left')\n",
        "acc_ax.legend(loc='lower left')\n",
        "\n",
        "plt.show()"
      ]
    },
    {
      "cell_type": "code",
      "execution_count": null,
      "metadata": {
        "colab": {
          "background_save": true
        },
        "id": "Fp8tmF1Tckc-",
        "outputId": "57818c41-6115-43da-bf81-5ea318a627bf"
      },
      "outputs": [
        {
          "name": "stdout",
          "output_type": "stream",
          "text": [
            "1/1 [==============================] - 2s 2s/step - loss: 0.0019 - accuracy: 1.0000\n",
            "test_loss :  0.0019188951700925827 test_acc : 1.0\n"
          ]
        }
      ],
      "source": [
        "score_Merge = model_final.evaluate([X_test, X_test_img], y_test)\n",
        "print('test_loss : ' , score_Merge[0], 'test_acc :' , score_Merge[1])"
      ]
    }
  ],
  "metadata": {
    "colab": {
      "provenance": []
    },
    "kernelspec": {
      "display_name": "Python 3",
      "name": "python3"
    },
    "language_info": {
      "name": "python"
    }
  },
  "nbformat": 4,
  "nbformat_minor": 0
}